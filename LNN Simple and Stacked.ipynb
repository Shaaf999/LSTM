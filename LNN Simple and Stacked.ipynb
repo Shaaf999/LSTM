{
 "cells": [
  {
   "cell_type": "code",
   "execution_count": 17,
   "id": "f4d1714e",
   "metadata": {},
   "outputs": [],
   "source": [
    "from keras.layers import LSTM\n",
    "import numpy as np\n",
    "\n",
    "from sklearn.metrics import accuracy_score\n",
    "from keras.datasets import reuters\n",
    "from keras.preprocessing.sequence import pad_sequences\n",
    "from keras.utils.np_utils import to_categorical\n",
    "\n",
    "from keras.models import Sequential\n",
    "\n",
    "from keras import optimizers\n",
    "from keras.wrappers.scikit_learn import KerasClassifier"
   ]
  },
  {
   "cell_type": "code",
   "execution_count": 2,
   "id": "a44b27b0",
   "metadata": {},
   "outputs": [],
   "source": [
    "num_words = 30000\n",
    "maxlen = 50\n",
    "test_split = 0.3\n"
   ]
  },
  {
   "cell_type": "code",
   "execution_count": 3,
   "id": "5950cf7d",
   "metadata": {},
   "outputs": [],
   "source": [
    "model= KerasClassifier(build_fn = LSTM, epochs =200, batch_size = 50, verbose =1)"
   ]
  },
  {
   "cell_type": "code",
   "execution_count": 4,
   "id": "514cae36",
   "metadata": {},
   "outputs": [],
   "source": [
    "(X_train, y_train), (X_test, y_test) = reuters.load_data(num_words = num_words, maxlen = maxlen, test_split = test_split)"
   ]
  },
  {
   "cell_type": "code",
   "execution_count": 5,
   "id": "578f5aff",
   "metadata": {},
   "outputs": [
    {
     "name": "stdout",
     "output_type": "stream",
     "text": [
      "(1395,)\n",
      "(599,)\n"
     ]
    }
   ],
   "source": [
    "print(X_train.shape)\n",
    "\n",
    "print(X_test.shape)"
   ]
  },
  {
   "cell_type": "code",
   "execution_count": 6,
   "id": "781cdf06",
   "metadata": {},
   "outputs": [
    {
     "data": {
      "text/plain": [
       "array([ 0,  1,  2,  3,  4,  6,  8,  9, 10, 11, 12, 13, 14, 16, 17, 18, 19,\n",
       "       20, 21, 23, 24, 25, 28, 30, 32, 34, 36, 37, 38, 39, 45],\n",
       "      dtype=int64)"
      ]
     },
     "execution_count": 6,
     "metadata": {},
     "output_type": "execute_result"
    }
   ],
   "source": [
    "np.unique(y_train)"
   ]
  },
  {
   "cell_type": "code",
   "execution_count": 7,
   "id": "f9fbbfac",
   "metadata": {},
   "outputs": [],
   "source": [
    "X_train = pad_sequences(X_train, padding = 'post')\n",
    "X_test = pad_sequences(X_test, padding = 'post')"
   ]
  },
  {
   "cell_type": "code",
   "execution_count": 8,
   "id": "ba53c449",
   "metadata": {},
   "outputs": [
    {
     "name": "stdout",
     "output_type": "stream",
     "text": [
      "(1395, 49)\n",
      "(599, 49)\n",
      "(1395,)\n",
      "(599,)\n"
     ]
    }
   ],
   "source": [
    "print(X_train.shape)\n",
    "print(X_test.shape)\n",
    "print(y_train.shape)\n",
    "print(y_test.shape)"
   ]
  },
  {
   "cell_type": "code",
   "execution_count": 9,
   "id": "660ef009",
   "metadata": {},
   "outputs": [],
   "source": [
    "X_train = np.array(X_train).reshape((X_train.shape[0], X_train.shape[1], 1))\n",
    "X_test = np.array(X_test).reshape((X_test.shape[0], X_test.shape[1], 1))"
   ]
  },
  {
   "cell_type": "code",
   "execution_count": 10,
   "id": "3fb49f56",
   "metadata": {},
   "outputs": [],
   "source": [
    "y_data = np.concatenate((y_train, y_test))\n",
    "y_data = to_categorical(y_data)\n",
    "\n"
   ]
  },
  {
   "cell_type": "code",
   "execution_count": 11,
   "id": "2c797fb9",
   "metadata": {},
   "outputs": [],
   "source": [
    "y_train = y_data[:1395]\n",
    "y_test = y_data[1395:]"
   ]
  },
  {
   "cell_type": "code",
   "execution_count": 12,
   "id": "696d5917",
   "metadata": {},
   "outputs": [
    {
     "name": "stdout",
     "output_type": "stream",
     "text": [
      "(1395, 49, 1)\n",
      "(599, 49, 1)\n",
      "(1395, 46)\n",
      "(599, 46)\n"
     ]
    }
   ],
   "source": [
    "print(X_train.shape)\n",
    "print(X_test.shape)\n",
    "print(y_train.shape)\n",
    "print(y_test.shape)"
   ]
  },
  {
   "cell_type": "code",
   "execution_count": 13,
   "id": "09599e36",
   "metadata": {},
   "outputs": [],
   "source": [
    "def lstm():    \n",
    "    model = Sequential()\n",
    "    model.add(LSTM(50,input_shape =(49,1),return_sequences =False))\n",
    "    model.add(Dense(46))\n",
    "    model.add(Activation('softmax'))\n",
    "    import tensorflow as tf\n",
    "    adam =tf.keras.optimizers.Adam(learning_rate = 0.001)\n",
    "    model.compile(optimizer=adam,loss='categorical_crossentropy',metrics=['accuracy'])\n",
    "    return model"
   ]
  },
  {
   "cell_type": "code",
   "execution_count": 18,
   "id": "67f4890d",
   "metadata": {},
   "outputs": [],
   "source": [
    "model = KerasClassifier(build_fn = lstm, epochs = 10, batch_size = 50, verbose = 1)"
   ]
  },
  {
   "cell_type": "code",
   "execution_count": 19,
   "id": "c7e5aa2c",
   "metadata": {},
   "outputs": [
    {
     "name": "stdout",
     "output_type": "stream",
     "text": [
      "Epoch 1/10\n",
      "28/28 [==============================] - 3s 24ms/step - loss: 3.0260 - accuracy: 0.6373\n",
      "Epoch 2/10\n",
      "28/28 [==============================] - 1s 22ms/step - loss: 1.3443 - accuracy: 0.7147\n",
      "Epoch 3/10\n",
      "28/28 [==============================] - 1s 22ms/step - loss: 1.1786 - accuracy: 0.7147\n",
      "Epoch 4/10\n",
      "28/28 [==============================] - 1s 23ms/step - loss: 1.1334 - accuracy: 0.7147\n",
      "Epoch 5/10\n",
      "28/28 [==============================] - 1s 25ms/step - loss: 1.0813 - accuracy: 0.7147\n",
      "Epoch 6/10\n",
      "28/28 [==============================] - 1s 23ms/step - loss: 0.9719 - accuracy: 0.7297\n",
      "Epoch 7/10\n",
      "28/28 [==============================] - 1s 24ms/step - loss: 0.9039 - accuracy: 0.7943\n",
      "Epoch 8/10\n",
      "28/28 [==============================] - 1s 22ms/step - loss: 0.8644 - accuracy: 0.8000\n",
      "Epoch 9/10\n",
      "28/28 [==============================] - 1s 22ms/step - loss: 0.8390 - accuracy: 0.7971\n",
      "Epoch 10/10\n",
      "28/28 [==============================] - 1s 25ms/step - loss: 0.8519 - accuracy: 0.7885\n"
     ]
    },
    {
     "data": {
      "text/plain": [
       "<keras.callbacks.History at 0x29dd81c3c40>"
      ]
     },
     "execution_count": 19,
     "metadata": {},
     "output_type": "execute_result"
    }
   ],
   "source": [
    "model.fit(X_train, y_train)"
   ]
  },
  {
   "cell_type": "code",
   "execution_count": 20,
   "id": "2985e7b9",
   "metadata": {},
   "outputs": [],
   "source": [
    "y_pred = model.predict(X_test)"
   ]
  },
  {
   "cell_type": "code",
   "execution_count": 21,
   "id": "2db4dec2",
   "metadata": {},
   "outputs": [],
   "source": [
    "y_pred1 = np.argmax(y_pred, axis = 0)"
   ]
  },
  {
   "cell_type": "code",
   "execution_count": 22,
   "id": "59246fd8",
   "metadata": {},
   "outputs": [],
   "source": [
    "y_test1  = np.argmax(y_test, axis = 1)"
   ]
  },
  {
   "cell_type": "code",
   "execution_count": 23,
   "id": "d8557cd6",
   "metadata": {},
   "outputs": [
    {
     "name": "stdout",
     "output_type": "stream",
     "text": [
      "0.8030050083472454\n"
     ]
    }
   ],
   "source": [
    "print(accuracy_score(y_pred, y_test1))"
   ]
  },
  {
   "cell_type": "markdown",
   "id": "6c4633b6",
   "metadata": {},
   "source": [
    "# Stacked LSTM"
   ]
  },
  {
   "cell_type": "code",
   "execution_count": 24,
   "id": "6cedb1b3",
   "metadata": {},
   "outputs": [],
   "source": [
    "def stacked_lstm():\n",
    "    model = Sequential()\n",
    "    model.add(LSTM(50, input_shape = (49,1), return_sequences = True))\n",
    "    model.add(LSTM(50, return_sequences = False))\n",
    "    model.add(Dense(46))\n",
    "    model.add(Activation('softmax'))\n",
    "    \n",
    "    import tensorflow as tf\n",
    "    \n",
    "    adam = tf.keras.optimizers.Adam(lr = 0.001)\n",
    "    model.compile(loss = 'categorical_crossentropy', optimizer = adam, metrics = ['accuracy'])\n",
    "    \n",
    "    return model"
   ]
  },
  {
   "cell_type": "code",
   "execution_count": 25,
   "id": "8ffc3dd1",
   "metadata": {},
   "outputs": [],
   "source": [
    "model = KerasClassifier(build_fn = stacked_lstm, epochs = 10, batch_size = 50, verbose = 1)"
   ]
  },
  {
   "cell_type": "code",
   "execution_count": 26,
   "id": "20fdb367",
   "metadata": {},
   "outputs": [
    {
     "name": "stderr",
     "output_type": "stream",
     "text": [
      "c:\\python\\lib\\site-packages\\keras\\optimizer_v2\\optimizer_v2.py:355: UserWarning: The `lr` argument is deprecated, use `learning_rate` instead.\n",
      "  warnings.warn(\n"
     ]
    },
    {
     "name": "stdout",
     "output_type": "stream",
     "text": [
      "Epoch 1/10\n",
      "28/28 [==============================] - 5s 51ms/step - loss: 2.6647 - accuracy: 0.6674\n",
      "Epoch 2/10\n",
      "28/28 [==============================] - 1s 49ms/step - loss: 1.2515 - accuracy: 0.7147\n",
      "Epoch 3/10\n",
      "28/28 [==============================] - 1s 43ms/step - loss: 1.1827 - accuracy: 0.7147\n",
      "Epoch 4/10\n",
      "28/28 [==============================] - 1s 42ms/step - loss: 1.1719 - accuracy: 0.7147\n",
      "Epoch 5/10\n",
      "28/28 [==============================] - 1s 44ms/step - loss: 1.1645 - accuracy: 0.7147\n",
      "Epoch 6/10\n",
      "28/28 [==============================] - 1s 42ms/step - loss: 1.1599 - accuracy: 0.7147\n",
      "Epoch 7/10\n",
      "28/28 [==============================] - 1s 44ms/step - loss: 1.1566 - accuracy: 0.7147\n",
      "Epoch 8/10\n",
      "28/28 [==============================] - 1s 44ms/step - loss: 1.1469 - accuracy: 0.7147\n",
      "Epoch 9/10\n",
      "28/28 [==============================] - 1s 44ms/step - loss: 1.1246 - accuracy: 0.7147\n",
      "Epoch 10/10\n",
      "28/28 [==============================] - 1s 45ms/step - loss: 1.0400 - accuracy: 0.7147\n"
     ]
    },
    {
     "data": {
      "text/plain": [
       "<keras.callbacks.History at 0x29dd88276a0>"
      ]
     },
     "execution_count": 26,
     "metadata": {},
     "output_type": "execute_result"
    }
   ],
   "source": [
    "model.fit(X_train, y_train)"
   ]
  },
  {
   "cell_type": "code",
   "execution_count": 27,
   "id": "95aa59b6",
   "metadata": {},
   "outputs": [],
   "source": [
    "y_pred = model.predict(X_test)"
   ]
  },
  {
   "cell_type": "code",
   "execution_count": 28,
   "id": "22d322b0",
   "metadata": {},
   "outputs": [
    {
     "name": "stdout",
     "output_type": "stream",
     "text": [
      "0.7479131886477463\n"
     ]
    }
   ],
   "source": [
    "print(accuracy_score(y_pred, y_test1))"
   ]
  }
 ],
 "metadata": {
  "kernelspec": {
   "display_name": "Python 3",
   "language": "python",
   "name": "python3"
  },
  "language_info": {
   "codemirror_mode": {
    "name": "ipython",
    "version": 3
   },
   "file_extension": ".py",
   "mimetype": "text/x-python",
   "name": "python",
   "nbconvert_exporter": "python",
   "pygments_lexer": "ipython3",
   "version": "3.9.5"
  }
 },
 "nbformat": 4,
 "nbformat_minor": 5
}
